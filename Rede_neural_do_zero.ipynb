{
  "nbformat": 4,
  "nbformat_minor": 0,
  "metadata": {
    "colab": {
      "provenance": [],
      "authorship_tag": "ABX9TyM24dcBg6mJsuO0YmYkUBxJ",
      "include_colab_link": true
    },
    "kernelspec": {
      "name": "python3",
      "display_name": "Python 3"
    },
    "language_info": {
      "name": "python"
    }
  },
  "cells": [
    {
      "cell_type": "markdown",
      "metadata": {
        "id": "view-in-github",
        "colab_type": "text"
      },
      "source": [
        "<a href=\"https://colab.research.google.com/github/viniciusaze/machine_learning/blob/main/Rede_neural_do_zero.ipynb\" target=\"_parent\"><img src=\"https://colab.research.google.com/assets/colab-badge.svg\" alt=\"Open In Colab\"/></a>"
      ]
    },
    {
      "cell_type": "markdown",
      "source": [
        "# Implementando uma rede neural\n",
        "Tratando problema do mnist"
      ],
      "metadata": {
        "id": "xc_OqchJv42R"
      }
    },
    {
      "cell_type": "code",
      "execution_count": 1,
      "metadata": {
        "id": "DLCSgdziv3li"
      },
      "outputs": [],
      "source": [
        "import numpy as np\n",
        "import torch\n",
        "import torch.nn.functional as F\n",
        "import torchvision\n",
        "import matplotlib.pyplot as plt\n",
        "from time import time\n",
        "from torchvision import datasets, transforms\n",
        "from torch import nn, optim"
      ]
    },
    {
      "cell_type": "code",
      "source": [
        "transform = transforms.ToTensor() # Definindo a conversão de imagem para tensor\n",
        "\n",
        "trainset = datasets.MNIST('./MNIST_data', train=True, download=True, transform=transform) # Carrega a parte de treino do dataset\n",
        "trainloader = torch.utils.data.DataLoader(trainset, batch_size=64, shuffle=True) # Cria um buffer para pegar os dados por partes\n",
        "\n",
        "valset = datasets.MNIST('./MNIST_data', train=False, download=True, transform=transform) # Carrega a parte de validação do dataset\n",
        "valloader = torch.utils.data.DataLoader(valset, batch_size=64, shuffle=True) # Cria um buffer para pegar os dados por partes"
      ],
      "metadata": {
        "id": "JlP8H9kVxc3u"
      },
      "execution_count": 13,
      "outputs": []
    },
    {
      "cell_type": "markdown",
      "source": [
        "Site: http://yann.lecun.com/exdb/mnist/"
      ],
      "metadata": {
        "id": "S1qEC8uJy5vT"
      }
    },
    {
      "cell_type": "code",
      "source": [
        "# Visualizando uma imagem da base de dados, para conferir se estamos lendo a base da forma correta\n",
        "dataiter = iter(trainloader)\n",
        "imagens, etiquetas = next(dataiter)\n",
        "plt.imshow(imagens[0].numpy().squeeze(), cmap='gray_r');"
      ],
      "metadata": {
        "colab": {
          "base_uri": "https://localhost:8080/",
          "height": 430
        },
        "id": "Nr0Iboggy8TP",
        "outputId": "0294f4f8-8b8b-459f-ff03-6f0d8348ea2a"
      },
      "execution_count": 34,
      "outputs": [
        {
          "output_type": "display_data",
          "data": {
            "text/plain": [
              "<Figure size 640x480 with 1 Axes>"
            ],
            "image/png": "[encoded data removed]"
          },
          "metadata": {}
        }
      ]
    },
    {
      "cell_type": "code",
      "source": [
        "# Conferindo o tamanho do tensor de uma imagem\n",
        "print(imagens[0].shape) # Verificar as dimensões do tensor de cada imagem\n",
        "print(etiquetas[0].shape) # Verificar as dimensões do tensor de cada etiqueta"
      ],
      "metadata": {
        "colab": {
          "base_uri": "https://localhost:8080/"
        },
        "id": "8m1uVyvh0vG7",
        "outputId": "ef292b35-6f2d-4a5a-c216-02a9e4495b3d"
      },
      "execution_count": 18,
      "outputs": [
        {
          "output_type": "stream",
          "name": "stdout",
          "text": [
            "torch.Size([1, 28, 28])\n",
            "torch.Size([])\n"
          ]
        }
      ]
    },
    {
      "cell_type": "markdown",
      "source": [
        "# Usando a rede InceptionV3 do Keras"
      ],
      "metadata": {
        "id": "FELSkqOa12lh"
      }
    },
    {
      "cell_type": "code",
      "source": [
        "class Modelo(nn.Module):\n",
        "    def __init__(self):\n",
        "        super(Modelo, self).__init__()\n",
        "        self.linear1 = nn.Linear(28*28, 128) # camada de entrada, 784 neurônios que se ligam a 128\n",
        "        self.linear2 = nn.Linear(128, 64) # camada interna 1, 128 neurônios que se ligam a 64\n",
        "        self.linear3 = nn.Linear(64, 10) # camada interna 2, 64 neurônios que se ligam a 10\n",
        "        # para a camada de saida não é necessário definir nada pois só precisamos pegar o output da camda interna 2\n",
        "\n",
        "    def forward(self, X):\n",
        "        X = F.relu(self.linear1(X)) # função de ativação da camada de entrada para a camada interna 1\n",
        "        X = F.relu(self.linear2(X)) # função de ativação da camada interna 1 para a camada interna 2\n",
        "        X = self.linear3(X) # função de ativação da camada interna 2 para a camada de saída, nesse caso f(x) = x\n",
        "        return F.log_softmax(X, dim=1) # dados utilizados para calcular a perda"
      ],
      "metadata": {
        "id": "DDHW3FR018sj"
      },
      "execution_count": 19,
      "outputs": []
    },
    {
      "cell_type": "code",
      "source": [
        "def treino(modelo, trainloader, device):\n",
        "    otimizador = optim.SGD(modelo.parameters(), lr=0.01, momentum=0.5) # define a politica de atualização dos pesos e da bias\n",
        "    inicio = time() # timer para saber quanto tempo levou o treino\n",
        "\n",
        "    criterio = nn.NLLLoss() # define o criterio para calcular a perda\n",
        "    EPOCHS = 10 # número de epochs\n",
        "    modelo.train() # ativando o modo de treinamento do modelo\n",
        "\n",
        "    for epoch in range(EPOCHS):\n",
        "        perda_acumulada = 0 # inicializando a perda acumulada para a epoch\n",
        "\n",
        "        for imagens, etiquetas in trainloader:\n",
        "            imagens = imagens.view(imagens.shape[0], -1) # convertendo as imagens para \"vetores\"  de 28+28 casas para ficarem compatíveis com a\n",
        "            otimizador.zero_grad() # zerando os gradientes\n",
        "\n",
        "            output = modelo(imagens.to(device)) # colocando os dados no modelo\n",
        "            perda_instantanea = criterio(output, etiquetas.to(device)) # calculando a perda\n",
        "\n",
        "            perda_instantanea.backward() # back propagation a partir da perda\n",
        "\n",
        "            otimizador.step() # atualizando os pesos e bias\n",
        "\n",
        "            perda_acumulada += perda_instantanea.item() # atualização da perda acumulada\n",
        "\n",
        "        else:\n",
        "            print(\"Epoch {} - Perda Acumulada: {:.4f}\".format(epoch+1, perda_acumulada/len(trainloader)))\n",
        "    print(\"Tempo de treino (minutos):\",(time()-inicio)/60)\n"
      ],
      "metadata": {
        "id": "9OZKyO91373n"
      },
      "execution_count": 22,
      "outputs": []
    },
    {
      "cell_type": "code",
      "source": [
        "def validacao(modelo, valloader, device):\n",
        "    conta_corretas, conta_todas = 0, 0\n",
        "    for imagens, etiquetas in valloader:\n",
        "        for i in range(len(etiquetas)):\n",
        "          img = imagens[i].view(1, 784)\n",
        "          # desativar o autograd para acelerar a validação. Grafos computacionais dinâmicos tem custo alto de processamento\n",
        "          with torch.no_grad():\n",
        "              logps = modelo(img.to(device)) # output do modelo em escala logaritmica\n",
        "\n",
        "          ps = torch.exp(logps) # converte output para escala normal(lembrando que é um tensor)\n",
        "          probab = list(ps.cpu().numpy()[0]) # converte para lista\n",
        "          etiqueta_pred = probab.index(max(probab)) # converte o tensor em um numero, no caso, o numero que o modelo previu como correto\n",
        "          etiqueta_certa = etiquetas.numpy()[i]\n",
        "          if (etiqueta_certa == etiqueta_pred): # compara a previsao com o valor correto\n",
        "              conta_corretas += 1\n",
        "          conta_todas += 1\n",
        "\n",
        "    print('Total de imagens testadas = ', conta_todas)\n",
        "    print('Taxa de acerto = ', (conta_corretas/conta_todas)*100)"
      ],
      "metadata": {
        "id": "XCTyL6fb6mGN"
      },
      "execution_count": 23,
      "outputs": []
    },
    {
      "cell_type": "code",
      "source": [
        "modelo = Modelo()\n",
        "device = torch.device(\"cuda\" if torch.cuda.is_available() else \"cpu\")\n",
        "modelo.to(device)\n",
        "treino(modelo, trainloader, device)"
      ],
      "metadata": {
        "colab": {
          "base_uri": "https://localhost:8080/"
        },
        "id": "ekm9-gfz8crw",
        "outputId": "bff874f7-29d5-42ee-eaf9-dc62f37dfc14"
      },
      "execution_count": 24,
      "outputs": [
        {
          "output_type": "stream",
          "name": "stdout",
          "text": [
            "Epoch 1 - Perda Acumulada: 1.1676\n",
            "Epoch 2 - Perda Acumulada: 0.3748\n",
            "Epoch 3 - Perda Acumulada: 0.3070\n",
            "Epoch 4 - Perda Acumulada: 0.2681\n",
            "Epoch 5 - Perda Acumulada: 0.2379\n",
            "Epoch 6 - Perda Acumulada: 0.2123\n",
            "Epoch 7 - Perda Acumulada: 0.1917\n",
            "Epoch 8 - Perda Acumulada: 0.1740\n",
            "Epoch 9 - Perda Acumulada: 0.1590\n",
            "Epoch 10 - Perda Acumulada: 0.1459\n",
            "Tempo de treino (minutos): 1.8339111487070718\n"
          ]
        }
      ]
    }
  ]
}